{
  "cells": [
    {
      "cell_type": "markdown",
      "metadata": {
        "id": "xHxb-dlhMIzW"
      },
      "source": [
        "# Lab01 - Introduction\n",
        "\n",
        "In this tutorial, we will explore the following tasks:\n",
        "- Installing Python libraries on Google Colab\n",
        "- Connecting Google Colab to Atlas MongoDB"
      ]
    },
    {
      "cell_type": "markdown",
      "metadata": {
        "id": "MUXex9ctTuDB"
      },
      "source": [
        "## Step 1: Setup packages\n",
        "\n",
        "We will need to install (i) the `pymongo` python library to create a new mongodb database and collection to store the data, and (ii) the `pandas` library as to help us to interact with a sample dataset easily.\n"
      ]
    },
    {
      "cell_type": "code",
      "execution_count": null,
      "metadata": {
        "colab": {
          "base_uri": "https://localhost:8080/"
        },
        "id": "48B9eAMMhAgw",
        "outputId": "f8c5c0ee-c43b-4cbb-d20c-46b518697982"
      },
      "outputs": [
        {
          "name": "stdout",
          "output_type": "stream",
          "text": [
            "Requirement already satisfied: pandas in /usr/local/lib/python3.10/dist-packages (1.5.3)\n",
            "Requirement already satisfied: python-dateutil>=2.8.1 in /usr/local/lib/python3.10/dist-packages (from pandas) (2.8.2)\n",
            "Requirement already satisfied: pytz>=2020.1 in /usr/local/lib/python3.10/dist-packages (from pandas) (2023.3.post1)\n",
            "Requirement already satisfied: numpy>=1.21.0 in /usr/local/lib/python3.10/dist-packages (from pandas) (1.23.5)\n",
            "Requirement already satisfied: six>=1.5 in /usr/local/lib/python3.10/dist-packages (from python-dateutil>=2.8.1->pandas) (1.16.0)\n"
          ]
        }
      ],
      "source": [
        "!pip install -q pymongo\n",
        "!pip install pandas"
      ]
    },
    {
      "cell_type": "markdown",
      "metadata": {
        "id": "HZjhElu1wL96"
      },
      "source": [
        "## Step 2: Import packages, connect to mongo"
      ]
    },
    {
      "cell_type": "code",
      "execution_count": null,
      "metadata": {
        "id": "EhUVjpyI-_M8"
      },
      "outputs": [],
      "source": [
        "# Import necessary packages\n",
        "import pandas as pd\n",
        "from pymongo import MongoClient\n",
        "from bson.objectid import ObjectId"
      ]
    },
    {
      "cell_type": "code",
      "execution_count": null,
      "metadata": {
        "id": "vNojHlTfBR95"
      },
      "outputs": [],
      "source": [
        "# TODO: copy paste your connection string (see slide 22, and REMEMBER to put your admin password in the string)\n",
        "connection_string = \"\""
      ]
    },
    {
      "cell_type": "code",
      "execution_count": null,
      "metadata": {
        "id": "EURJi8lj_krk"
      },
      "outputs": [],
      "source": [
        "# We create a MongoClient instance\n",
        "client = MongoClient(connection_string)"
      ]
    },
    {
      "cell_type": "code",
      "execution_count": null,
      "metadata": {
        "id": "BXiT54F-BmxF"
      },
      "outputs": [],
      "source": [
        "# From that instance, we need to get the connection for the desired database\n",
        "db = client.Labo01"
      ]
    },
    {
      "cell_type": "code",
      "execution_count": null,
      "metadata": {
        "colab": {
          "base_uri": "https://localhost:8080/"
        },
        "id": "wQT4QXV_C7Na",
        "outputId": "0c94e860-efdb-44d3-a904-1522cadc6270"
      },
      "outputs": [
        {
          "data": {
            "text/plain": [
              "Database(MongoClient(host=['ac-p01w3ea-shard-00-02.g6jahxe.mongodb.net:27017', 'ac-p01w3ea-shard-00-00.g6jahxe.mongodb.net:27017', 'ac-p01w3ea-shard-00-01.g6jahxe.mongodb.net:27017'], document_class=dict, tz_aware=False, connect=True, retrywrites=True, w='majority', authsource='admin', replicaset='atlas-1245gi-shard-0', tls=True), 'Lab01')"
            ]
          },
          "execution_count": 47,
          "metadata": {},
          "output_type": "execute_result"
        }
      ],
      "source": [
        "# Let's see how the MongoClient object looks like\n",
        "db"
      ]
    }
  ],
  "metadata": {
    "colab": {
      "provenance": []
    },
    "kernelspec": {
      "display_name": "Python 3",
      "name": "python3"
    },
    "language_info": {
      "name": "python"
    }
  },
  "nbformat": 4,
  "nbformat_minor": 0
}
